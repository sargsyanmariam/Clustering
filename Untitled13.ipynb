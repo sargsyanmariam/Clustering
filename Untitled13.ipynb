{
 "cells": [
  {
   "cell_type": "code",
   "execution_count": 57,
   "metadata": {
    "collapsed": true
   },
   "outputs": [],
   "source": [
    "from copy import deepcopy\n",
    "import numpy as np # linear algebra\n",
    "import pandas as pd # data processing\n",
    "from matplotlib import pyplot as plt\n",
    "from matplotlib import axes as ax\n",
    "%matplotlib inline"
   ]
  },
  {
   "cell_type": "code",
   "execution_count": 58,
   "metadata": {},
   "outputs": [
    {
     "data": {
      "text/plain": [
       "<matplotlib.collections.PathCollection at 0x2204bea6c50>"
      ]
     },
     "execution_count": 58,
     "metadata": {},
     "output_type": "execute_result"
    },
    {
     "data": {
      "image/png": "[encoded data removed]",
      "text/plain": [
       "<matplotlib.figure.Figure at 0x2204bff4f60>"
      ]
     },
     "metadata": {},
     "output_type": "display_data"
    }
   ],
   "source": [
    "# Set three centers, the model should predict similar results\n",
    "center_1 = np.array([1,1])\n",
    "center_2 = np.array([5,5])\n",
    "center_3 = np.array([8,1])\n",
    "\n",
    "# Generate random data and center it to the three centers\n",
    "data_1 = np.random.randn(25,2) + center_1\n",
    "data_2 = np.random.randn(25,2) + center_2\n",
    "data_3 = np.random.randn(25,2) + center_3\n",
    "\n",
    "data = np.concatenate((data_1, data_2, data_3), axis = 0)\n",
    "\n",
    "plt.scatter(data[:,0], data[:,1], s=10)"
   ]
  },
  {
   "cell_type": "code",
   "execution_count": 59,
   "metadata": {},
   "outputs": [
    {
     "data": {
      "text/plain": [
       "array([[ 4.55838018,  5.05250715],\n",
       "       [ 2.18898761,  1.77553007],\n",
       "       [ 7.88319136,  3.32199821]])"
      ]
     },
     "execution_count": 59,
     "metadata": {},
     "output_type": "execute_result"
    },
    {
     "data": {
      "image/png": "[encoded data removed]",
      "text/plain": [
       "<matplotlib.figure.Figure at 0x2204bffdc88>"
      ]
     },
     "metadata": {},
     "output_type": "display_data"
    }
   ],
   "source": [
    "# Number of clusters\n",
    "k = 3\n",
    "# Number of training data\n",
    "n = data.shape[0]\n",
    "# Number of features in the data\n",
    "c = data.shape[1]\n",
    "\n",
    "# Generate random centers, here we use sigma and mean to ensure it represent the whole data\n",
    "mean = np.mean(data, axis = 0)\n",
    "std = np.std(data, axis = 0)\n",
    "centers = np.random.randn(k,c)*std + mean\n",
    "\n",
    "# Plot the data and the centers generated as random\n",
    "plt.scatter(data[:,0], data[:,1], s=7)\n",
    "plt.scatter(centers[0,0], centers[0,1], marker='*', c='g', s=150)\n",
    "plt.scatter(centers[1,0], centers[1,1], marker='*', c='r', s=150)\n",
    "plt.scatter(centers[2,0], centers[2,1], marker='*', c='y', s=150)\n",
    "centers"
   ]
  },
  {
   "cell_type": "code",
   "execution_count": 60,
   "metadata": {},
   "outputs": [
    {
     "data": {
      "text/plain": [
       "1.4142135623730951"
      ]
     },
     "execution_count": 60,
     "metadata": {},
     "output_type": "execute_result"
    }
   ],
   "source": [
    "def mydist(x,y):\n",
    "    return (sum((x-y)**2))**(1/2)\n",
    "mydist(np.array([1,1]),np.array([0,0]))\n"
   ]
  },
  {
   "cell_type": "code",
   "execution_count": 61,
   "metadata": {
    "collapsed": true
   },
   "outputs": [],
   "source": [
    "datag=[]\n",
    "datay=[]\n",
    "datar=[]\n",
    "for i in range(75):\n",
    "    a = mydist(data[i], centers[0])\n",
    "    b = mydist(data[i], centers[1])\n",
    "    c = mydist(data[i], centers[2])\n",
    "    #print(a,b,c)\n",
    "    if a>=c and b>=c: \n",
    "        datag.append(data[i]) \n",
    "        #print('c')\n",
    "    if b>=a and c>=a:\n",
    "        datay.append(data[i])\n",
    "        #print('a')\n",
    "    if c>=b and a>=b:\n",
    "        datar.append(data[i])\n",
    "        #print('b')"
   ]
  },
  {
   "cell_type": "code",
   "execution_count": 62,
   "metadata": {},
   "outputs": [
    {
     "data": {
      "text/plain": [
       "<matplotlib.collections.PathCollection at 0x2204c0cb0f0>"
      ]
     },
     "execution_count": 62,
     "metadata": {},
     "output_type": "execute_result"
    },
    {
     "data": {
      "image/png": "[encoded data removed]",
      "text/plain": [
       "<matplotlib.figure.Figure at 0x2204bfc00b8>"
      ]
     },
     "metadata": {},
     "output_type": "display_data"
    }
   ],
   "source": [
    "datar=np.array(datar)\n",
    "datag=np.array(datag)\n",
    "datay=np.array(datay)\n",
    "#plt.figure(figsize=(20,10))\n",
    "#axes = plt.gca()\n",
    "#axes.set_xlim([0,8])\n",
    "#axes.set_ylim([-1,6])\n",
    "\n",
    "\n",
    "plt.scatter(datar[:,0], datar[:,1], s=7, c='r')\n",
    "plt.scatter(datay[:,0], datay[:,1], s=7, c='y')\n",
    "plt.scatter(datag[:,0], datag[:,1], s=7, c='g')\n",
    "\n",
    "plt.scatter(centers[0,0], centers[0,1], marker='*', c='y', s=150)\n",
    "plt.scatter(centers[1,0], centers[1,1], marker='*', c='r', s=150)\n",
    "plt.scatter(centers[2,0], centers[2,1], marker='*', c='g', s=150)\n",
    "\n"
   ]
  },
  {
   "cell_type": "code",
   "execution_count": 63,
   "metadata": {},
   "outputs": [
    {
     "name": "stdout",
     "output_type": "stream",
     "text": [
      "[1.2201945218908725, 0.92336808669529613]\n"
     ]
    }
   ],
   "source": [
    "center_x=np.mean(datar[:,0])\n",
    "center_y=np.mean(datar[:,1])\n",
    "centerr=[center_x,center_y]\n",
    "print(centerr)"
   ]
  },
  {
   "cell_type": "code",
   "execution_count": 64,
   "metadata": {},
   "outputs": [
    {
     "name": "stdout",
     "output_type": "stream",
     "text": [
      "[7.8244812277567135, 1.4161468876350258]\n"
     ]
    }
   ],
   "source": [
    "center3_x=np.mean(datag[:,0])\n",
    "center3_y=np.mean(datag[:,1])\n",
    "centerg=[center3_x,center3_y]\n",
    "print(centerg)"
   ]
  },
  {
   "cell_type": "code",
   "execution_count": 65,
   "metadata": {},
   "outputs": [
    {
     "name": "stdout",
     "output_type": "stream",
     "text": [
      "[4.76851039689386, 5.1539524441770332]\n"
     ]
    }
   ],
   "source": [
    "center2_x=np.mean(datay[:,0])\n",
    "center2_y=np.mean(datay[:,1])\n",
    "centery = [center2_x,center2_y]\n",
    "print(centery)"
   ]
  },
  {
   "cell_type": "code",
   "execution_count": 66,
   "metadata": {},
   "outputs": [
    {
     "data": {
      "text/plain": [
       "<matplotlib.collections.PathCollection at 0x2204c12efd0>"
      ]
     },
     "execution_count": 66,
     "metadata": {},
     "output_type": "execute_result"
    },
    {
     "data": {
      "image/png": "[encoded data removed]",
      "text/plain": [
       "<matplotlib.figure.Figure at 0x2204c0a4b00>"
      ]
     },
     "metadata": {},
     "output_type": "display_data"
    }
   ],
   "source": [
    "plt.scatter(data[:,0], data[:,1], s=10)\n",
    "plt.scatter(centerg[0], centerg[1], marker='*', c='g', s=150)\n",
    "plt.scatter(centerr[0], centerr[1], marker='*', c='r', s=150)\n",
    "plt.scatter(centery[0], centery[1], marker='*', c='y', s=150)\n",
    "\n",
    "plt.scatter(centers[0,0], centers[0,1], marker='o', c='y', s=90)\n",
    "plt.scatter(centers[1,0], centers[1,1], marker='o', c='r', s=90)\n",
    "plt.scatter(centers[2,0], centers[2,1], marker='o', c='g', s=90)\n"
   ]
  },
  {
   "cell_type": "code",
   "execution_count": 67,
   "metadata": {
    "collapsed": true
   },
   "outputs": [],
   "source": [
    "datag=[]\n",
    "datay=[]\n",
    "datar=[]\n",
    "for i in range(75):\n",
    "    a = mydist(data[i], centery)\n",
    "    b = mydist(data[i], centerg)\n",
    "    c = mydist(data[i], centerr)\n",
    "    #print(a,b,c)\n",
    "    if a>=c and b>=c: \n",
    "        datar.append(data[i]) \n",
    "        #print('c')\n",
    "    if b>=a and c>=a:\n",
    "        datay.append(data[i])\n",
    "        #print('a')\n",
    "    if c>=b and a>=b:\n",
    "        datag.append(data[i])\n",
    "        #print('b')"
   ]
  },
  {
   "cell_type": "code",
   "execution_count": 68,
   "metadata": {},
   "outputs": [
    {
     "data": {
      "text/plain": [
       "24"
      ]
     },
     "execution_count": 68,
     "metadata": {},
     "output_type": "execute_result"
    }
   ],
   "source": [
    "len(datay)"
   ]
  },
  {
   "cell_type": "code",
   "execution_count": 69,
   "metadata": {},
   "outputs": [
    {
     "data": {
      "text/plain": [
       "<matplotlib.collections.PathCollection at 0x2204c1ae400>"
      ]
     },
     "execution_count": 69,
     "metadata": {},
     "output_type": "execute_result"
    },
    {
     "data": {
      "image/png": "[encoded data removed]",
      "text/plain": [
       "<matplotlib.figure.Figure at 0x2204aa40ac8>"
      ]
     },
     "metadata": {},
     "output_type": "display_data"
    }
   ],
   "source": [
    "datay=np.array(datay)\n",
    "datag=np.array(datag)\n",
    "datar=np.array(datar)\n",
    "\n",
    "plt.scatter(datay[:,0], datay[:,1], s=7, c='y')\n",
    "plt.scatter(datar[:,0], datar[:,1], s=7, c='r')\n",
    "plt.scatter(datag[:,0], datag[:,1], s=7, c='g')\n",
    "plt.scatter(center_x, center_y, marker='*', c='r', s=150)\n",
    "plt.scatter(center2_x, center2_y, marker='*', c='y', s=150)\n",
    "plt.scatter(center3_x, center3_y, marker='*', c='g', s=150)\n",
    "\n",
    "plt.scatter(centers[0,0], centers[0,1], marker='o', c='y', s=90)\n",
    "plt.scatter(centers[1,0], centers[1,1], marker='o', c='r', s=90)\n",
    "plt.scatter(centers[2,0], centers[2,1], marker='o', c='g', s=90)"
   ]
  },
  {
   "cell_type": "code",
   "execution_count": 70,
   "metadata": {},
   "outputs": [
    {
     "name": "stdout",
     "output_type": "stream",
     "text": [
      "[1.2201945218908725, 0.92336808669529613]\n"
     ]
    }
   ],
   "source": [
    "center_x2=np.mean(datar[:,0])\n",
    "center_y2=np.mean(datar[:,1])\n",
    "centerr2=[center_x2,center_y2]\n",
    "print(centerr2)"
   ]
  },
  {
   "cell_type": "code",
   "execution_count": 71,
   "metadata": {},
   "outputs": [
    {
     "name": "stdout",
     "output_type": "stream",
     "text": [
      "[4.9451831683188319, 5.0926422915804261]\n"
     ]
    }
   ],
   "source": [
    "center2_x2=np.mean(datay[:,0])\n",
    "center2_y2=np.mean(datay[:,1])\n",
    "centery2=[center2_x2,center2_y2]\n",
    "print(centery2)"
   ]
  },
  {
   "cell_type": "code",
   "execution_count": 72,
   "metadata": {},
   "outputs": [
    {
     "name": "stdout",
     "output_type": "stream",
     "text": [
      "[7.8964733488154204, 1.1852173702978925]\n"
     ]
    }
   ],
   "source": [
    "center3_x2=np.mean(datag[:,0])\n",
    "center3_y2=np.mean(datag[:,1])\n",
    "centerg2=[center3_x2,center3_y2]\n",
    "print(centerg2)"
   ]
  },
  {
   "cell_type": "code",
   "execution_count": 73,
   "metadata": {},
   "outputs": [],
   "source": [
    "datag2=[]\n",
    "datay2=[]\n",
    "datar2=[]\n",
    "\n",
    "for i in range(75):\n",
    "    a = mydist(data[i], centery2)\n",
    "    b = mydist(data[i], centerg2)\n",
    "    c = mydist(data[i], centerr2)\n",
    "    #print(a,b,c)\n",
    "    if a>=c and b>=c: \n",
    "        datar2.append(data[i]) \n",
    "        #print('c')\n",
    "    if b>=a and c>=a:\n",
    "        datay2.append(data[i])\n",
    "        #print('a')\n",
    "    if c>=b and a>=b:\n",
    "        datag2.append(data[i])\n",
    "        #print('b')"
   ]
  },
  {
   "cell_type": "code",
   "execution_count": 74,
   "metadata": {},
   "outputs": [
    {
     "data": {
      "text/plain": [
       "<matplotlib.collections.PathCollection at 0x2204c213ef0>"
      ]
     },
     "execution_count": 74,
     "metadata": {},
     "output_type": "execute_result"
    },
    {
     "data": {
      "image/png": "[encoded data removed]",
      "text/plain": [
       "<matplotlib.figure.Figure at 0x2204c1b4c88>"
      ]
     },
     "metadata": {},
     "output_type": "display_data"
    }
   ],
   "source": [
    "datay2=np.array(datay2)\n",
    "datag2=np.array(datag2)\n",
    "datar2=np.array(datar2)\n",
    "\n",
    "plt.scatter(datay2[:,0], datay2[:,1], s=7, c='y')\n",
    "plt.scatter(datar2[:,0], datar2[:,1], s=7, c='r')\n",
    "plt.scatter(datag2[:,0], datag2[:,1], s=7, c='g')\n",
    "plt.scatter(center_x2, center_y2, marker='*', c='r', s=150)\n",
    "plt.scatter(center2_x2, center2_y2, marker='*', c='y', s=150)\n",
    "plt.scatter(center3_x2, center3_y2, marker='*', c='g', s=150)\n",
    "\n",
    "plt.scatter(center_x, center_y, marker='o', c='r', s=80)\n",
    "plt.scatter(center2_x, center2_y, marker='o', c='y', s=80)\n",
    "plt.scatter(center3_x, center3_y, marker='o', c='g', s=80)"
   ]
  },
  {
   "cell_type": "code",
   "execution_count": null,
   "metadata": {
    "collapsed": true
   },
   "outputs": [],
   "source": []
  }
 ],
 "metadata": {
  "kernelspec": {
   "display_name": "Python 3",
   "language": "python",
   "name": "python3"
  },
  "language_info": {
   "codemirror_mode": {
    "name": "ipython",
    "version": 3
   },
   "file_extension": ".py",
   "mimetype": "text/x-python",
   "name": "python",
   "nbconvert_exporter": "python",
   "pygments_lexer": "ipython3",
   "version": "3.6.3"
  }
 },
 "nbformat": 4,
 "nbformat_minor": 2
}
